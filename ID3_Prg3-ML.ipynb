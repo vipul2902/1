{
 "cells": [
  {
   "cell_type": "code",
   "execution_count": 4,
   "id": "39f5830d",
   "metadata": {},
   "outputs": [
    {
     "name": "stdout",
     "output_type": "stream",
     "text": [
      "{'Outlook': {'Overcast': 'Yes',\n",
      "             'Rain': {'Wind': {'Strong': 'No', 'Weak': 'Yes'}},\n",
      "             'Sunny': {'Humidity': {'High': 'No', 'Normal': 'Yes'}}}}\n",
      "The new sample is classified as: No\n"
     ]
    }
   ],
   "source": [
    "import pandas as pd\n",
    "import numpy as np\n",
    "\n",
    "# Step 1: Calculate Entropy\n",
    "def entropy(target_col):\n",
    "    elements, counts = np.unique(target_col, return_counts=True)\n",
    "    entropy_value = np.sum([-counts[i] / np.sum(counts) * np.log2(counts[i] / np.sum(counts)) for i in range(len(elements))])\n",
    "    return entropy_value\n",
    "\n",
    "# Step 2: Calculate Information Gain\n",
    "def info_gain(data, split_attribute_name, target_name=\"PlayTennis\"):\n",
    "    total_entropy = entropy(data[target_name])\n",
    "    vals, counts = np.unique(data[split_attribute_name], return_counts=True)\n",
    "\n",
    "    weighted_entropy = np.sum([(counts[i] / np.sum(counts)) * entropy(data.where(data[split_attribute_name] == vals[i]).dropna()[target_name]) for i in range(len(vals))])\n",
    "    information_gain = total_entropy - weighted_entropy\n",
    "    return information_gain\n",
    "\n",
    "# Step 3: ID3 Algorithm to build the tree\n",
    "def ID3(data, original_data, features, target_attribute_name=\"PlayTennis\", parent_node_class=None):\n",
    "    if len(np.unique(data[target_attribute_name])) <= 1:\n",
    "        return np.unique(data[target_attribute_name])[0]\n",
    "    elif len(data) == 0:\n",
    "        return np.unique(original_data[target_attribute_name])[np.argmax(np.unique(original_data[target_attribute_name], return_counts=True)[1])]\n",
    "    elif len(features) == 0:\n",
    "        return parent_node_class\n",
    "    else:\n",
    "        parent_node_class = np.unique(data[target_attribute_name])[np.argmax(np.unique(data[target_attribute_name], return_counts=True)[1])]\n",
    "        item_values = [info_gain(data, feature, target_attribute_name) for feature in features]\n",
    "        best_feature_index = np.argmax(item_values)\n",
    "        best_feature = features[best_feature_index]\n",
    "\n",
    "        tree = {best_feature: {}}\n",
    "        features = [i for i in features if i != best_feature]\n",
    "\n",
    "        for value in np.unique(data[best_feature]):\n",
    "            sub_data = data.where(data[best_feature] == value).dropna()\n",
    "            subtree = ID3(sub_data, original_data, features, target_attribute_name, parent_node_class)\n",
    "            tree[best_feature][value] = subtree\n",
    "\n",
    "        return tree\n",
    "\n",
    "# Function to classify a new sample\n",
    "def classify(sample, tree):\n",
    "    for key in tree.keys():\n",
    "        value = sample[key]\n",
    "        tree = tree[key][value]\n",
    "        if isinstance(tree, dict):\n",
    "            return classify(sample, tree)\n",
    "        else:\n",
    "            return tree\n",
    "\n",
    "# Step 4: Load the dataset from CSV\n",
    "df = pd.read_csv('enjoysportID3.csv')\n",
    "\n",
    "# Step 5: Run the ID3 algorithm\n",
    "features = list(df.columns[:-1])\n",
    "tree = ID3(df, df, features)\n",
    "\n",
    "# Print the decision tree\n",
    "import pprint\n",
    "pprint.pprint(tree)\n",
    "\n",
    "# Step 6: Classify a new sample\n",
    "new_sample = {\n",
    "    'Outlook': 'Sunny',\n",
    "    'Temperature': 'Hot',\n",
    "    'Humidity': 'High',\n",
    "    'Wind': 'Strong',\n",
    "}\n",
    "\n",
    "classification = classify(new_sample, tree)\n",
    "print(f\"The new sample is classified as: {classification}\")\n"
   ]
  },
  {
   "cell_type": "code",
   "execution_count": null,
   "id": "98c3a92d",
   "metadata": {},
   "outputs": [],
   "source": []
  }
 ],
 "metadata": {
  "kernelspec": {
   "display_name": "Python 3 (ipykernel)",
   "language": "python",
   "name": "python3"
  },
  "language_info": {
   "codemirror_mode": {
    "name": "ipython",
    "version": 3
   },
   "file_extension": ".py",
   "mimetype": "text/x-python",
   "name": "python",
   "nbconvert_exporter": "python",
   "pygments_lexer": "ipython3",
   "version": "3.9.7"
  }
 },
 "nbformat": 4,
 "nbformat_minor": 5
}
